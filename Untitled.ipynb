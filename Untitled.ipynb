{
 "cells": [
  {
   "cell_type": "code",
   "execution_count": 1,
   "id": "74b5e686-f68f-4560-bb94-e555c0d1d4c0",
   "metadata": {},
   "outputs": [
    {
     "name": "stdout",
     "output_type": "stream",
     "text": [
      "**************************************************\n",
      "Chroma vectorization started\n",
      "**************************************************\n",
      "**************************************************\n",
      "vector\n",
      "**************************************************\n",
      "<langchain_community.vectorstores.chroma.Chroma object at 0x768c2e8c7f70>\n",
      "**************************************************\n",
      "\n"
     ]
    }
   ],
   "source": [
    "from langchain_community.llms import Ollama\n",
    "from langchain_core.prompts import ChatPromptTemplate\n",
    "from langchain_core.output_parsers import StrOutputParser\n",
    "from langchain_community.document_loaders import TextLoader\n",
    "from langchain_community.embeddings import OllamaEmbeddings\n",
    "from langchain_community.vectorstores import Chroma\n",
    "from langchain_text_splitters import CharacterTextSplitter\n",
    "from langchain.chains.combine_documents import create_stuff_documents_chain\n",
    "from langchain.chains import create_retrieval_chain\n",
    "\n",
    "llm = Ollama(model=\"llama2-uncensored\")\n",
    "output_parser = StrOutputParser()\n",
    "embeddings = OllamaEmbeddings(model=\"llama2-uncensored\")\n",
    "\n",
    "loader = TextLoader(\"./data/essay.txt\")\n",
    "\n",
    "documents = loader.load()\n",
    "\n",
    "text_splitter = CharacterTextSplitter(chunk_size=1000, chunk_overlap=0)\n",
    "docs = text_splitter.split_documents(documents)\n",
    "\n",
    "print(f\"{'*'*50}\\nChroma vectorization started\\n{'*'*50}\")\n",
    "\n",
    "vector = Chroma.from_documents(docs, embeddings)\n",
    "\n",
    "print(f\"{'*'*50}\\nvector\\n{'*'*50}\\n{vector}\\n{'*'*50}\\n\")\n",
    "\n",
    "prompt = ChatPromptTemplate.from_template(\"\"\"Answer the following question based only on the provided context:\n",
    "<context>\n",
    "{context}\n",
    "</context>\n",
    "Question: {input}\"\"\")\n",
    "\n",
    "document_chain = create_stuff_documents_chain(llm, prompt)\n",
    "\n",
    "retriever = vector.as_retriever()\n",
    "retrieval_chain = create_retrieval_chain(retriever, document_chain)\n"
   ]
  },
  {
   "cell_type": "code",
   "execution_count": 2,
   "id": "8878aedc-8864-4c12-a47a-4b96e26d8991",
   "metadata": {},
   "outputs": [
    {
     "name": "stderr",
     "output_type": "stream",
     "text": [
      "Number of requested results 4 is greater than number of elements in index 2, updating n_results = 2\n"
     ]
    },
    {
     "name": "stdout",
     "output_type": "stream",
     "text": [
      "Plutos One is a company that provides bill payment solutions to banks and network providers.\n"
     ]
    }
   ],
   "source": [
    "response = retrieval_chain.invoke({\"input\": \"What is plutos ONE? answer in one line\"})\n",
    "print(response[\"answer\"])"
   ]
  },
  {
   "cell_type": "code",
   "execution_count": 3,
   "id": "1165d076-cf00-469d-933e-30442eeb3cb6",
   "metadata": {},
   "outputs": [
    {
     "name": "stderr",
     "output_type": "stream",
     "text": [
      "Number of requested results 4 is greater than number of elements in index 2, updating n_results = 2\n"
     ]
    },
    {
     "name": "stdout",
     "output_type": "stream",
     "text": [
      "Oh, the road is rough and rocky\n",
      "I'm driving on it every day\n",
      "It's bumpy as can be, I swear to God\n",
      "But I don't want to give up the way.\n",
      "The car's engine runs like a racehorse\n",
      "And the tires are worn out in no time\n",
      "The steering wheel is always on the edge\n",
      "Cause this road it just don't seem fine.\n",
      "I drive so fast, it makes me dizzy\n",
      "But I gotta keep my eyes on the prize\n",
      "Cause if I slow down too much then I'll lose\n",
      "And that ain't gonna make me very wise.\n"
     ]
    }
   ],
   "source": [
    "response = retrieval_chain.invoke({\"input\": \"write a song about roads with a lot of bumps\"})\n",
    "print(response[\"answer\"])"
   ]
  },
  {
   "cell_type": "code",
   "execution_count": null,
   "id": "2e09c043-e461-4b2a-8b03-52691b8e5042",
   "metadata": {},
   "outputs": [],
   "source": []
  }
 ],
 "metadata": {
  "kernelspec": {
   "display_name": "Python 3 (ipykernel)",
   "language": "python",
   "name": "python3"
  },
  "language_info": {
   "codemirror_mode": {
    "name": "ipython",
    "version": 3
   },
   "file_extension": ".py",
   "mimetype": "text/x-python",
   "name": "python",
   "nbconvert_exporter": "python",
   "pygments_lexer": "ipython3",
   "version": "3.10.12"
  }
 },
 "nbformat": 4,
 "nbformat_minor": 5
}
