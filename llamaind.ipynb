{
 "cells": [
  {
   "cell_type": "code",
   "execution_count": 1,
   "id": "61fd8ac5-06e2-42f5-b36f-36f47ad11207",
   "metadata": {},
   "outputs": [
    {
     "name": "stdout",
     "output_type": "stream",
     "text": [
      "The author is telling the reader about his experience with computers and programming. He describes how he got started in programming by building a computer from scratch. He also tells about the challenges and rewards of learning to program."
     ]
    }
   ],
   "source": [
    "from generate import prompt as p\n",
    "p(\"what is author telling in this essay?\")"
   ]
  },
  {
   "cell_type": "code",
   "execution_count": 2,
   "id": "c695f409-7f35-4a0e-8b34-e1a94eae87d5",
   "metadata": {},
   "outputs": [
    {
     "name": "stdout",
     "output_type": "stream",
     "text": [
      "The context does not provide information about the author's location, so I cannot answer this question from the provided context."
     ]
    }
   ],
   "source": [
    "p(\"where is author living?\")"
   ]
  },
  {
   "cell_type": "code",
   "execution_count": 3,
   "id": "401dd9bc-e282-46b9-8bb9-ba388b8dcad2",
   "metadata": {},
   "outputs": [
    {
     "name": "stdout",
     "output_type": "stream",
     "text": [
      "The author used an IBM 1401 computer. The context information mentions that the author got permission to use the computer in the basement of the junior high school."
     ]
    }
   ],
   "source": [
    "p('which computer did author used?')"
   ]
  },
  {
   "cell_type": "code",
   "execution_count": 4,
   "id": "eb4065ca-c638-414e-a1a9-f815cd7e3073",
   "metadata": {},
   "outputs": [
    {
     "name": "stdout",
     "output_type": "stream",
     "text": [
      "The author remembers that he spent his childhood writing and programming. He wrote short stories and tried writing programs on punch cards. He also worked with a microcomputer to build his first computer."
     ]
    }
   ],
   "source": [
    "p('what things author remembers about his childhood?')"
   ]
  },
  {
   "cell_type": "code",
   "execution_count": null,
   "id": "2e051bd5-b97c-477c-bb82-49079b67cd38",
   "metadata": {},
   "outputs": [],
   "source": []
  },
  {
   "cell_type": "code",
   "execution_count": null,
   "id": "c6d77ffb-b418-4b31-bcf3-8d18257692fc",
   "metadata": {},
   "outputs": [],
   "source": []
  },
  {
   "cell_type": "code",
   "execution_count": null,
   "id": "a3af832a-9239-4262-bdec-2008bf77d778",
   "metadata": {},
   "outputs": [],
   "source": []
  },
  {
   "cell_type": "code",
   "execution_count": 5,
   "id": "667b7b9a-15ec-40c9-b375-86cb2cf60bc0",
   "metadata": {},
   "outputs": [
    {
     "name": "stdout",
     "output_type": "stream",
     "text": [
      "The context information does not provide any information about the author's college or where they went to college, so I cannot answer this query from the provided context."
     ]
    }
   ],
   "source": [
    "p(\"where author went for college?\")"
   ]
  },
  {
   "cell_type": "code",
   "execution_count": 6,
   "id": "e0a8d5dd-d848-4ee3-b210-96f1520df278",
   "metadata": {},
   "outputs": [
    {
     "name": "stdout",
     "output_type": "stream",
     "text": [
      "The context does not provide the author's name, so I cannot answer this question from the provided context."
     ]
    }
   ],
   "source": [
    "p(\"what is author's name?\")"
   ]
  },
  {
   "cell_type": "code",
   "execution_count": 7,
   "id": "855dd0d7-617b-40e1-993a-6e27afa710f8",
   "metadata": {},
   "outputs": [
    {
     "name": "stdout",
     "output_type": "stream",
     "text": [
      "The context does not provide any information about the author's likes, so I cannot answer this query from the provided context."
     ]
    }
   ],
   "source": [
    "p(\"what author likes to do?\")"
   ]
  },
  {
   "cell_type": "code",
   "execution_count": 8,
   "id": "06e289b3-4b63-4b2c-8555-ab4c394b06c6",
   "metadata": {},
   "outputs": [
    {
     "name": "stdout",
     "output_type": "stream",
     "text": [
      "The author is telling the story of how he got started in programming and computer science. He describes his experiences with writing and programming on the IBM 1401 and then microcomputers. He also discusses his reasons for not pursuing computer science in college and ultimately decided to work on artificial intelligence."
     ]
    }
   ],
   "source": [
    "p(\"what is author telling in this essay?\")"
   ]
  },
  {
   "cell_type": "code",
   "execution_count": 9,
   "id": "e4d7ee0c-8305-46fa-9da4-e3d0d520ffdd",
   "metadata": {},
   "outputs": [
    {
     "name": "stdout",
     "output_type": "stream",
     "text": [
      "The author is saying that he was interested in programming and writing from a young age, but that he did not have much time to pursue his interests due to other priorities."
     ]
    }
   ],
   "source": [
    "p(\"what is author saying?\")"
   ]
  },
  {
   "cell_type": "code",
   "execution_count": null,
   "id": "6f5d99b2-aa4c-4f6e-a304-b145d54a0c0a",
   "metadata": {},
   "outputs": [],
   "source": []
  }
 ],
 "metadata": {
  "kernelspec": {
   "display_name": "Python 3 (ipykernel)",
   "language": "python",
   "name": "python3"
  },
  "language_info": {
   "codemirror_mode": {
    "name": "ipython",
    "version": 3
   },
   "file_extension": ".py",
   "mimetype": "text/x-python",
   "name": "python",
   "nbconvert_exporter": "python",
   "pygments_lexer": "ipython3",
   "version": "3.10.12"
  }
 },
 "nbformat": 4,
 "nbformat_minor": 5
}
