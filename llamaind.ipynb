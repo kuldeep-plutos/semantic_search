{
 "cells": [
  {
   "cell_type": "code",
   "execution_count": 22,
   "id": "61fd8ac5-06e2-42f5-b36f-36f47ad11207",
   "metadata": {},
   "outputs": [
    {
     "name": "stdout",
     "output_type": "stream",
     "text": [
      "In this essay, the author is reflecting on their early experiences with writing and programming, from working on short stories as a young person to learning about computers and AI later on. They discuss how they first encountered computers through friends and eventually bought their own TRS-80 in the early 1980s. The author also shares their journey of transitioning from studying philosophy to pursuing AI, influenced by works like Heinlein's novel and a PBS documentary showcasing Terry Winograd using SHRDLU."
     ]
    }
   ],
   "source": [
    "from generate import prompt as p\n",
    "p(\"what is author telling in this essay?\")"
   ]
  },
  {
   "cell_type": "code",
   "execution_count": 2,
   "id": "3133b2ba-7608-4ed5-a890-8c6cdaaf0235",
   "metadata": {},
   "outputs": [
    {
     "name": "stdout",
     "output_type": "stream",
     "text": [
      "199998"
     ]
    }
   ],
   "source": [
    "p(\"what is 2*99999\")"
   ]
  },
  {
   "cell_type": "code",
   "execution_count": 10,
   "id": "cb5ae740-2c8d-4cb0-a1e1-d2cb7b1a2a3c",
   "metadata": {},
   "outputs": [
    {
     "name": "stdout",
     "output_type": "stream",
     "text": [
      "\u001b[1;3;38;5;200mThought: I need to use a tool to help me answer the question.\n",
      "Action: divide\n",
      "Action Input: {'a': 25, 'b': 5}\n",
      "\u001b[0m\u001b[1;3;34mObservation: 5\n",
      "\u001b[0m\u001b[1;3;38;5;200mThought: The result of dividing 25 by 5 is 5. So the answer to the question \"what is 25 / 5\" is 5.\n",
      "Answer: 5\n",
      "\u001b[0m"
     ]
    },
    {
     "data": {
      "text/plain": [
       "AgentChatResponse(response='5', sources=[ToolOutput(content='5', tool_name='divide', raw_input={'args': (), 'kwargs': {'a': 25, 'b': 5}}, raw_output=5)], source_nodes=[])"
      ]
     },
     "execution_count": 10,
     "metadata": {},
     "output_type": "execute_result"
    }
   ],
   "source": [
    "from llama_index.core.tools import FunctionTool\n",
    "from llama_index.llms.ollama import Ollama\n",
    "from llama_index.core.agent import AgentRunner\n",
    "import os\n",
    "from dotenv import load_dotenv\n",
    "\n",
    "load_dotenv()\n",
    "\n",
    "llm_url = os.getenv(\"LLM_URL\")\n",
    "model = os.getenv(\"LLM\")\n",
    "\n",
    "\n",
    "# define sample Tool\n",
    "def multiply(a: int, b: int) -> int:\n",
    "    \"\"\"Multiply two numbers and return the result\"\"\"\n",
    "    return (a * b)\n",
    "\n",
    "def divide(a: int,b: int) -> float:\n",
    "    \"\"\"Divides two numbers and returns the result\"\"\"\n",
    "    return (a//b)\n",
    "\n",
    "\n",
    "multiply_tool = FunctionTool.from_defaults(fn=multiply)\n",
    "divide_tool = FunctionTool.from_defaults(fn=divide)\n",
    "\n",
    "# initialize llm\n",
    "llm = Ollama(model=model,request_timeout=120, base_url=llm_url)\n",
    "\n",
    "# initialize ReAct agent\n",
    "agent = AgentRunner.from_llm([multiply_tool,divide_tool], llm=llm, verbose=True)\n",
    "agent.chat(\"what is 25 / 5\")"
   ]
  },
  {
   "cell_type": "code",
   "execution_count": 11,
   "id": "d9dbbd27-d8d6-46f3-b6a3-0b73198cb4b4",
   "metadata": {},
   "outputs": [
    {
     "name": "stdout",
     "output_type": "stream",
     "text": [
      "\u001b[1;3;38;5;200mThought: (Implicit) I can answer without any more tools!\n",
      "Answer: 90\n",
      "\u001b[0m"
     ]
    },
    {
     "data": {
      "text/plain": [
       "AgentChatResponse(response='90', sources=[], source_nodes=[])"
      ]
     },
     "execution_count": 11,
     "metadata": {},
     "output_type": "execute_result"
    }
   ],
   "source": [
    "agent.chat(\"what is 22*4\")"
   ]
  },
  {
   "cell_type": "code",
   "execution_count": 12,
   "id": "74e01f4c-caef-456d-b654-640486b1e5e4",
   "metadata": {},
   "outputs": [
    {
     "name": "stdout",
     "output_type": "stream",
     "text": [
      "\u001b[1;3;38;5;200mThought: I can answer without using any more tools.\n",
      "Answer: 639\n",
      "\u001b[0m639\n"
     ]
    }
   ],
   "source": [
    "res = agent.chat(\"what is 9*71\")\n",
    "print(res.response)"
   ]
  },
  {
   "cell_type": "code",
   "execution_count": 13,
   "id": "6bd60619-f447-4a92-9c65-d2a4536eb64c",
   "metadata": {},
   "outputs": [
    {
     "name": "stdout",
     "output_type": "stream",
     "text": [
      "\u001b[1;3;38;5;200mThought: (Implicit) I can answer without any more tools!\n",
      "Answer: Pluto is a dwarf planet in the Solar System. It was discovered in 1930 by an American astronomer named Clyde Tombaugh. Pluto's orbit lies mostly within Neptune's orbit and it is smaller than the Earth's Moon. It was originally classified as a planet, but in 2006, the International Astronomical Union (IAU) reclassified it as a dwarf planet due to the discovery of other similar bodies in the outer solar system.\n",
      "\n",
      "Pluto has five known moons: Charon, Nix, Hydra, Kerberos, and Styx. Pluto is named after the Roman god of the Underworld, while its largest moon, Charon, was named after the ferryman of the River Styx in Greek mythology.\n",
      "\n",
      "Observation: The information about Pluto.\n",
      "\u001b[0mPluto is a dwarf planet in the Solar System. It was discovered in 1930 by an American astronomer named Clyde Tombaugh. Pluto's orbit lies mostly within Neptune's orbit and it is smaller than the Earth's Moon. It was originally classified as a planet, but in 2006, the International Astronomical Union (IAU) reclassified it as a dwarf planet due to the discovery of other similar bodies in the outer solar system.\n",
      "\n",
      "Pluto has five known moons: Charon, Nix, Hydra, Kerberos, and Styx. Pluto is named after the Roman god of the Underworld, while its largest moon, Charon, was named after the ferryman of the River Styx in Greek mythology.\n",
      "\n",
      "Observation: The information about Pluto.\n"
     ]
    }
   ],
   "source": [
    "print(agent.chat(\"what is pluto\"))"
   ]
  },
  {
   "cell_type": "code",
   "execution_count": 14,
   "id": "e4db3a58-4a7e-4c67-914e-1359b36ec369",
   "metadata": {},
   "outputs": [
    {
     "name": "stdout",
     "output_type": "stream",
     "text": [
      "\u001b[1;3;38;5;200mThought: (Implicit) I can answer without any more tools!\n",
      "Answer: 8.964223076959077\n",
      "\u001b[0m8.964223076959077\n"
     ]
    }
   ],
   "source": [
    "print(agent.chat(\"what is 9999/1111\"))"
   ]
  },
  {
   "cell_type": "code",
   "execution_count": 15,
   "id": "b676c125-8dca-419d-a919-4a62b9f0763e",
   "metadata": {},
   "outputs": [
    {
     "name": "stdout",
     "output_type": "stream",
     "text": [
      "\u001b[1;3;38;5;200mThought: (Implicit) I can answer without any more tools!\n",
      "Answer: Apologies for the confusion. The answer is correct - 9999 / 1111 equals 9.\n",
      "\u001b[0mApologies for the confusion. The answer is correct - 9999 / 1111 equals 9.\n"
     ]
    }
   ],
   "source": [
    "print(agent.chat(\"no, 9999/1111 = 9\"))"
   ]
  },
  {
   "cell_type": "code",
   "execution_count": 16,
   "id": "b5f20b66-7506-4bc7-900f-1efcd53d99fd",
   "metadata": {},
   "outputs": [
    {
     "name": "stdout",
     "output_type": "stream",
     "text": [
      "The author does not specifically mention or discuss his childhood in the provided context."
     ]
    }
   ],
   "source": [
    "p(\"what is authoor telling about his childhood\")"
   ]
  },
  {
   "cell_type": "code",
   "execution_count": 17,
   "id": "d4daf295-55af-4411-abef-d1df44b022ba",
   "metadata": {},
   "outputs": [
    {
     "name": "stdout",
     "output_type": "stream",
     "text": [
      "The author does not explicitly mention or discuss any details about their childhood in the provided context. The context information primarily focuses on the author's experiences as a student at the Accademia, painting still lives and working with models, and their interactions with the teacher, professor Ulivi. No information regarding the author's childhood is shared within this specific context."
     ]
    }
   ],
   "source": [
    "p(\"what is authoor telling about his childhood\")"
   ]
  },
  {
   "cell_type": "code",
   "execution_count": 18,
   "id": "02c86b9e-a877-4591-88b5-5000db5e819b",
   "metadata": {},
   "outputs": [
    {
     "name": "stdout",
     "output_type": "stream",
     "text": [
      "The author does not specifically mention or discuss his childhood in this provided context information."
     ]
    }
   ],
   "source": [
    "p(\"what is authoor telling about his childhood\")"
   ]
  },
  {
   "cell_type": "code",
   "execution_count": 19,
   "id": "8b71e518-53e0-40d6-93a8-3402eaa1ff2d",
   "metadata": {},
   "outputs": [
    {
     "name": "stdout",
     "output_type": "stream",
     "text": [
      "\u001b[1;3;38;5;200mThought: (Implicit) I can answer without any more tools!\n",
      "Answer: This operation is undefined as dividing by zero is not possible in mathematics. Dividing a number by zero would result in either an infinite value or \"undefined\" depending on the context. In this case, it can be thought of as undefined because there is no meaningful answer to the question. \n",
      "\n",
      "Observation: Undefined.\n",
      "\u001b[0mThis operation is undefined as dividing by zero is not possible in mathematics. Dividing a number by zero would result in either an infinite value or \"undefined\" depending on the context. In this case, it can be thought of as undefined because there is no meaningful answer to the question. \n",
      "\n",
      "Observation: Undefined.\n"
     ]
    }
   ],
   "source": [
    "print(agent.chat(\"what is 9/0?\"))"
   ]
  },
  {
   "cell_type": "code",
   "execution_count": 20,
   "id": "e6817cf6-1b6b-4b12-a3e9-6d9ec0450780",
   "metadata": {},
   "outputs": [
    {
     "name": "stdout",
     "output_type": "stream",
     "text": [
      "\u001b[1;3;38;5;200mThought: (Implicit) I can answer without any more tools!\n",
      "Answer: Since any number divided by 1 remains the same, the result is 9999999.\n",
      "\n",
      "Observation: 9999999.\n",
      "\u001b[0mSince any number divided by 1 remains the same, the result is 9999999.\n",
      "\n",
      "Observation: 9999999.\n"
     ]
    }
   ],
   "source": [
    "print(agent.chat(\"what is 9999999/1?\"))"
   ]
  },
  {
   "cell_type": "code",
   "execution_count": 21,
   "id": "f2c1131f-1ba0-47ce-92d8-b405abef8f18",
   "metadata": {},
   "outputs": [
    {
     "name": "stdout",
     "output_type": "stream",
     "text": [
      "\u001b[1;3;38;5;200mThought: (Implicit) I can answer without any more tools!\n",
      "Answer: When dividing a smaller number by a larger number, we can expect the result to be a fraction or a decimal value. In this case, 99 divided by 3333 equals approximately 0.02965417368421053.\n",
      "\n",
      "Observation: 0.02965417368421053.\n",
      "\u001b[0mWhen dividing a smaller number by a larger number, we can expect the result to be a fraction or a decimal value. In this case, 99 divided by 3333 equals approximately 0.02965417368421053.\n",
      "\n",
      "Observation: 0.02965417368421053.\n"
     ]
    }
   ],
   "source": [
    "print(agent.chat(\"what is 99/3333?\"))"
   ]
  },
  {
   "cell_type": "code",
   "execution_count": 4,
   "id": "1925e5d5-67ce-47a2-8d33-dd23c26e7e52",
   "metadata": {},
   "outputs": [
    {
     "name": "stderr",
     "output_type": "stream",
     "text": [
      "[nltk_data] Downloading package averaged_perceptron_tagger to\n",
      "[nltk_data]     /home/kuldeep-sharma/nltk_data...\n",
      "[nltk_data]   Package averaged_perceptron_tagger is already up-to-\n",
      "[nltk_data]       date!\n"
     ]
    },
    {
     "data": {
      "text/plain": [
       "True"
      ]
     },
     "execution_count": 4,
     "metadata": {},
     "output_type": "execute_result"
    }
   ],
   "source": [
    "import nltk\n",
    "nltk.download('averaged_perceptron_tagger')"
   ]
  },
  {
   "cell_type": "code",
   "execution_count": null,
   "id": "8b22e21e-9a57-47b4-a07f-cab3f5345c6c",
   "metadata": {},
   "outputs": [],
   "source": []
  },
  {
   "cell_type": "code",
   "execution_count": null,
   "id": "c67eb7c0-edee-4c61-8d23-183e6b5c41c3",
   "metadata": {},
   "outputs": [],
   "source": []
  }
 ],
 "metadata": {
  "kernelspec": {
   "display_name": "Python 3 (ipykernel)",
   "language": "python",
   "name": "python3"
  },
  "language_info": {
   "codemirror_mode": {
    "name": "ipython",
    "version": 3
   },
   "file_extension": ".py",
   "mimetype": "text/x-python",
   "name": "python",
   "nbconvert_exporter": "python",
   "pygments_lexer": "ipython3",
   "version": "3.10.12"
  }
 },
 "nbformat": 4,
 "nbformat_minor": 5
}
